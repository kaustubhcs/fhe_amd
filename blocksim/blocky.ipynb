{
 "cells": [
  {
   "cell_type": "markdown",
   "metadata": {},
   "source": [
    "# Blocky\n",
    "A blocksim simulation of NaviSim blocks"
   ]
  },
  {
   "cell_type": "code",
   "execution_count": 1,
   "metadata": {},
   "outputs": [],
   "source": [
    "# Imports\n",
    "import numpy as np\n",
    "import pandas as pd\n",
    "# Import NetworkX\n",
    "import networkx as nx\n",
    "import matplotlib.pyplot as plt"
   ]
  },
  {
   "cell_type": "code",
   "execution_count": null,
   "metadata": {},
   "outputs": [],
   "source": [
    "compute_graph = nx.DiGraph()\n",
    "uid = 0\n",
    "# Add nodes to the graph\n",
    "graph_start_node = uid\n",
    "# compute_graph.add_node(uid, type='null')\n",
    "compute_graph.add_node(uid)\n",
    "uid += 1\n",
    "graph_end_node = uid\n",
    "compute_graph.add_node(uid)\n",
    "# compute_graph.add_node(uid, type='null')\n",
    "uid += 1\n",
    "print(compute_graph.nodes)\n",
    "nx.draw(compute_graph)\n",
    "plt.show()"
   ]
  },
  {
   "cell_type": "code",
   "execution_count": 2,
   "metadata": {},
   "outputs": [],
   "source": [
    "# Read in the data\n",
    "block_data = pd.read_csv('../data/AMD NTT Profiling - Block Sim.csv')\n",
    "# Drop empty rows\n",
    "block_data = block_data.dropna()\n"
   ]
  },
  {
   "cell_type": "code",
   "execution_count": 3,
   "metadata": {},
   "outputs": [],
   "source": [
    "# Create metrics DF\n",
    "metrics = pd.DataFrame(columns=['CUs_busy', 'DRAM_BW', 'L1_BW', 'L2_BW', 'IPC', 'instx', 'DRAM_reads', 'DRAM_writes', 'dram_traffic'])\n",
    "# Create a list of the metrics\n",
    "CUs_busy = []\n",
    "DRAM_BW = []\n",
    "L1_BW = []\n",
    "L2_BW = []\n",
    "IPC = []\n",
    "instx = []\n",
    "DRAM_reads = []\n",
    "DRAM_writes = []\n",
    "dram_traffic = []\n"
   ]
  },
  {
   "cell_type": "code",
   "execution_count": null,
   "metadata": {},
   "outputs": [],
   "source": []
  },
  {
   "cell_type": "code",
   "execution_count": 4,
   "metadata": {},
   "outputs": [],
   "source": [
    "# Functions\n",
    "# def get_next_node_set()\n",
    "\n",
    "def create_poly_mult(uid, compute_graph):\n",
    "\tstart_node = uid\n",
    "\tcompute_graph.add_node(uid, type='null', compute=False)\n",
    "\tuid += 1\n",
    "\t# Add scalar_mult\n",
    "\tscalar_mult_0 = uid\n",
    "\tcompute_graph.add_node(uid, type='scalar_mult', compute=False)\n",
    "\tuid += 1\n",
    "\t# Edge\n",
    "\tcompute_graph.add_edge(start_node, scalar_mult_0)\n",
    "\t# Add scalar_mult\n",
    "\tscalar_mult_1 = uid\n",
    "\tcompute_graph.add_node(uid, type='scalar_mult', compute=False)\n",
    "\tuid += 1\n",
    "\t# Edge\n",
    "\tcompute_graph.add_edge(start_node, scalar_mult_1)\n",
    "\t# Add ntt\n",
    "\tntt_0 = uid\n",
    "\tcompute_graph.add_node(uid, type='ntt', compute=False)\n",
    "\tuid += 1\n",
    "\t# Edge\n",
    "\tcompute_graph.add_edge(scalar_mult_0, ntt_0)\n",
    "\t# Add ntt\n",
    "\tntt_1 = uid\n",
    "\tcompute_graph.add_node(uid, type='ntt', compute=False)\n",
    "\tuid += 1\n",
    "\t# Edge\n",
    "\tcompute_graph.add_edge(scalar_mult_1, ntt_1)\n",
    "\t# Add point_mult\n",
    "\tpoint_mult = uid\n",
    "\tcompute_graph.add_node(uid, type='point_mult', compute=False)\n",
    "\tuid += 1\n",
    "\t# Edge\n",
    "\tcompute_graph.add_edge(ntt_0, point_mult)\n",
    "\tcompute_graph.add_edge(ntt_1, point_mult)\n",
    "\t# Add intt\n",
    "\tintt = uid\n",
    "\tcompute_graph.add_node(uid, type='intt', compute=False)\n",
    "\tuid += 1\n",
    "\t# Edge\n",
    "\tcompute_graph.add_edge(point_mult, intt)\n",
    "\t# Add scalar_mult\n",
    "\tscalar_mult_2 = uid\n",
    "\tcompute_graph.add_node(uid, type='scalar_mult', compute=False)\n",
    "\tuid += 1\n",
    "\t# Edge\n",
    "\tcompute_graph.add_edge(intt, scalar_mult_2)\n",
    "\t# Add scalar_mult\n",
    "\tscalar_mult_3 = uid\n",
    "\tcompute_graph.add_node(uid, type='scalar_mult', compute=False)\n",
    "\tuid += 1\n",
    "\t# Edge\n",
    "\tcompute_graph.add_edge(scalar_mult_2, scalar_mult_3)\n",
    "\t# Add end node\n",
    "\tend_node = uid\n",
    "\tcompute_graph.add_node(uid, type='null', compute=False)\n",
    "\tuid += 1\n",
    "\t# Edge\n",
    "\tcompute_graph.add_edge(scalar_mult_3, end_node)\n",
    "\treturn uid, compute_graph, start_node, end_node\n",
    "\n",
    "\n"
   ]
  },
  {
   "cell_type": "code",
   "execution_count": 26,
   "metadata": {},
   "outputs": [],
   "source": [
    "# Create final graph\n",
    "def final_graph():\n",
    "\t# Create a directed graph\n",
    "\tcompute_graph = nx.DiGraph()\n",
    "\tuid = 0\n",
    "\t# Add nodes to the graph\n",
    "\tgraph_start_node = uid\n",
    "\t# compute_graph.add_node(uid, type='null')\n",
    "\tcompute_graph.add_node(uid)\n",
    "\tuid += 1\n",
    "\tgraph_end_node = uid\n",
    "\tcompute_graph.add_node(uid)\n",
    "\t# compute_graph.add_node(uid, type='null')\n",
    "\tuid += 1\n",
    "\tprint(compute_graph.nodes)\n",
    "\tnx.draw(compute_graph)\n",
    "\tplt.show()\n",
    "\treturn\n",
    "\tuid, compute_graph, start_node, end_node = create_poly_mult(uid, compute_graph)\n",
    "\t# Add edges to the graph\n",
    "\tcompute_graph.add_edge(graph_start_node, start_node)\n",
    "\tcompute_graph.add_edge(end_node, graph_end_node)\n",
    "\t# Draw the graph\n",
    "\tnx.draw(compute_graph, with_labels=True)\n",
    "\tplt.show()\n",
    "\treturn compute_graph"
   ]
  },
  {
   "cell_type": "code",
   "execution_count": 14,
   "metadata": {},
   "outputs": [],
   "source": [
    "# block_data"
   ]
  },
  {
   "cell_type": "code",
   "execution_count": 15,
   "metadata": {},
   "outputs": [],
   "source": [
    "# Add nodes\n",
    "# for i in range(10):\n",
    "# \tcompute_graph.add_node(i)\n"
   ]
  },
  {
   "cell_type": "code",
   "execution_count": 16,
   "metadata": {},
   "outputs": [],
   "source": [
    "# Add edges\n",
    "# compute_graph.add_edge('start', 0)\n",
    "# for i in range(9):\n",
    "# \t\tcompute_graph.add_edge(i, i+1)\n",
    "# compute_graph.add_edge(9, 'end')\n"
   ]
  },
  {
   "cell_type": "code",
   "execution_count": 27,
   "metadata": {},
   "outputs": [
    {
     "name": "stdout",
     "output_type": "stream",
     "text": [
      "[0, 1]\n"
     ]
    },
    {
     "ename": "TypeError",
     "evalue": "'_AxesStack' object is not callable",
     "output_type": "error",
     "traceback": [
      "\u001b[0;31m---------------------------------------------------------------------------\u001b[0m",
      "\u001b[0;31mTypeError\u001b[0m                                 Traceback (most recent call last)",
      "Cell \u001b[0;32mIn[27], line 1\u001b[0m\n\u001b[0;32m----> 1\u001b[0m compute_graph \u001b[39m=\u001b[39m final_graph()\n",
      "Cell \u001b[0;32mIn[26], line 16\u001b[0m, in \u001b[0;36mfinal_graph\u001b[0;34m()\u001b[0m\n\u001b[1;32m     14\u001b[0m uid \u001b[39m+\u001b[39m\u001b[39m=\u001b[39m \u001b[39m1\u001b[39m\n\u001b[1;32m     15\u001b[0m \u001b[39mprint\u001b[39m(compute_graph\u001b[39m.\u001b[39mnodes)\n\u001b[0;32m---> 16\u001b[0m nx\u001b[39m.\u001b[39;49mdraw(compute_graph)\n\u001b[1;32m     17\u001b[0m plt\u001b[39m.\u001b[39mshow()\n\u001b[1;32m     18\u001b[0m \u001b[39mreturn\u001b[39;00m\n",
      "File \u001b[0;32m~/anaconda3/envs/ktb_torch/lib/python3.10/site-packages/networkx/drawing/nx_pylab.py:113\u001b[0m, in \u001b[0;36mdraw\u001b[0;34m(G, pos, ax, **kwds)\u001b[0m\n\u001b[1;32m    111\u001b[0m cf\u001b[39m.\u001b[39mset_facecolor(\u001b[39m\"\u001b[39m\u001b[39mw\u001b[39m\u001b[39m\"\u001b[39m)\n\u001b[1;32m    112\u001b[0m \u001b[39mif\u001b[39;00m ax \u001b[39mis\u001b[39;00m \u001b[39mNone\u001b[39;00m:\n\u001b[0;32m--> 113\u001b[0m     \u001b[39mif\u001b[39;00m cf\u001b[39m.\u001b[39;49m_axstack() \u001b[39mis\u001b[39;00m \u001b[39mNone\u001b[39;00m:\n\u001b[1;32m    114\u001b[0m         ax \u001b[39m=\u001b[39m cf\u001b[39m.\u001b[39madd_axes((\u001b[39m0\u001b[39m, \u001b[39m0\u001b[39m, \u001b[39m1\u001b[39m, \u001b[39m1\u001b[39m))\n\u001b[1;32m    115\u001b[0m     \u001b[39melse\u001b[39;00m:\n",
      "\u001b[0;31mTypeError\u001b[0m: '_AxesStack' object is not callable"
     ]
    },
    {
     "data": {
      "text/plain": [
       "<Figure size 640x480 with 0 Axes>"
      ]
     },
     "metadata": {},
     "output_type": "display_data"
    }
   ],
   "source": [
    "compute_graph = final_graph()\n"
   ]
  },
  {
   "cell_type": "code",
   "execution_count": 18,
   "metadata": {},
   "outputs": [
    {
     "ename": "TypeError",
     "evalue": "'_AxesStack' object is not callable",
     "output_type": "error",
     "traceback": [
      "\u001b[0;31m---------------------------------------------------------------------------\u001b[0m",
      "\u001b[0;31mTypeError\u001b[0m                                 Traceback (most recent call last)",
      "Cell \u001b[0;32mIn[18], line 2\u001b[0m\n\u001b[1;32m      1\u001b[0m \u001b[39m# Draw the graph\u001b[39;00m\n\u001b[0;32m----> 2\u001b[0m nx\u001b[39m.\u001b[39;49mdraw(compute_graph, with_labels\u001b[39m=\u001b[39;49m\u001b[39mTrue\u001b[39;49;00m)\n\u001b[1;32m      3\u001b[0m plt\u001b[39m.\u001b[39mshow()\n",
      "File \u001b[0;32m~/anaconda3/envs/ktb_torch/lib/python3.10/site-packages/networkx/drawing/nx_pylab.py:113\u001b[0m, in \u001b[0;36mdraw\u001b[0;34m(G, pos, ax, **kwds)\u001b[0m\n\u001b[1;32m    111\u001b[0m cf\u001b[39m.\u001b[39mset_facecolor(\u001b[39m\"\u001b[39m\u001b[39mw\u001b[39m\u001b[39m\"\u001b[39m)\n\u001b[1;32m    112\u001b[0m \u001b[39mif\u001b[39;00m ax \u001b[39mis\u001b[39;00m \u001b[39mNone\u001b[39;00m:\n\u001b[0;32m--> 113\u001b[0m     \u001b[39mif\u001b[39;00m cf\u001b[39m.\u001b[39;49m_axstack() \u001b[39mis\u001b[39;00m \u001b[39mNone\u001b[39;00m:\n\u001b[1;32m    114\u001b[0m         ax \u001b[39m=\u001b[39m cf\u001b[39m.\u001b[39madd_axes((\u001b[39m0\u001b[39m, \u001b[39m0\u001b[39m, \u001b[39m1\u001b[39m, \u001b[39m1\u001b[39m))\n\u001b[1;32m    115\u001b[0m     \u001b[39melse\u001b[39;00m:\n",
      "\u001b[0;31mTypeError\u001b[0m: '_AxesStack' object is not callable"
     ]
    },
    {
     "data": {
      "text/plain": [
       "<Figure size 640x480 with 0 Axes>"
      ]
     },
     "metadata": {},
     "output_type": "display_data"
    }
   ],
   "source": [
    "# Draw the graph\n",
    "nx.draw(compute_graph, with_labels=True)\n",
    "plt.show()\n"
   ]
  },
  {
   "cell_type": "code",
   "execution_count": 50,
   "metadata": {},
   "outputs": [],
   "source": [
    "def sim_run(compute_graph, block_data):\n",
    "\t# Run till end\n",
    "\t# Get the start node\n",
    "\tstart_node = list(compute_graph.nodes)[0]\n",
    "\t# Get the end node\n",
    "\tend_node = list(compute_graph.nodes)[-1]\n",
    "\tnext_node = start_node\n",
    "\twhile next_node != end_node:\n",
    "\t\t# Get the next node\n",
    "\t\tprint(list(compute_graph.neighbors(next_node)))\n",
    "\t\tnext_node = list(compute_graph.neighbors(next_node))[0]\n",
    "\t\t\n"
   ]
  },
  {
   "cell_type": "code",
   "execution_count": 51,
   "metadata": {},
   "outputs": [
    {
     "name": "stdout",
     "output_type": "stream",
     "text": [
      "['scalar_mult_0', 'scalar_mult_1']\n",
      "['ntt_2']\n",
      "['point_mult_4']\n",
      "['intt_5']\n",
      "['scalar_mult_6']\n",
      "['scalar_mult_7']\n"
     ]
    }
   ],
   "source": [
    "sim_run(compute_graph, block_data)"
   ]
  },
  {
   "cell_type": "code",
   "execution_count": null,
   "metadata": {},
   "outputs": [],
   "source": []
  }
 ],
 "metadata": {
  "kernelspec": {
   "display_name": "ktb_torch",
   "language": "python",
   "name": "python3"
  },
  "language_info": {
   "codemirror_mode": {
    "name": "ipython",
    "version": 3
   },
   "file_extension": ".py",
   "mimetype": "text/x-python",
   "name": "python",
   "nbconvert_exporter": "python",
   "pygments_lexer": "ipython3",
   "version": "3.10.9"
  },
  "orig_nbformat": 4,
  "vscode": {
   "interpreter": {
    "hash": "2321090051baf4ee17d699572e1f1d6ef6c4f549e53dcb0c85da54068e299662"
   }
  }
 },
 "nbformat": 4,
 "nbformat_minor": 2
}
