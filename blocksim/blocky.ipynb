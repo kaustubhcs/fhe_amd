{
 "cells": [
  {
   "cell_type": "markdown",
   "metadata": {},
   "source": [
    "# Blocky\n",
    "A blocksim simulation of NaviSim blocks"
   ]
  },
  {
   "cell_type": "code",
   "execution_count": 71,
   "metadata": {},
   "outputs": [],
   "source": [
    "# Imports\n",
    "import numpy as np\n",
    "import pandas as pd\n",
    "# Import NetworkX\n",
    "import networkx as nx\n",
    "# Import matplotlib\n",
    "import matplotlib.pyplot as plt\n",
    "import plotly.express as px\n",
    "import plotly.graph_objects as go"
   ]
  },
  {
   "cell_type": "code",
   "execution_count": 72,
   "metadata": {},
   "outputs": [],
   "source": [
    "def create_traces(G):\n",
    "\tnode_trace = create_node_trace(G)\n",
    "\tedge_trace = create_edge_trace(G)\n",
    "\treturn edge_trace, node_trace\n",
    "\n",
    "def create_edge_trace(G):\n",
    "\tedge_x = []\n",
    "\tedge_y = []\n",
    "\tfor edge in G.edges():\n",
    "\t\tx0, y0 = G.nodes[edge[0]]['pos']\n",
    "\t\tx1, y1 = G.nodes[edge[1]]['pos']\n",
    "\t\tedge_x.append(x0)\n",
    "\t\tedge_x.append(x1)\n",
    "\t\tedge_x.append(None)\n",
    "\t\tedge_y.append(y0)\n",
    "\t\tedge_y.append(y1)\n",
    "\t\tedge_y.append(None)\n",
    "\n",
    "\tedge_trace = go.Scatter(\n",
    "\t\tx=edge_x, y=edge_y,\n",
    "\t\tline=dict(width=0.5, color='#888'),\n",
    "\t\thoverinfo='none',\n",
    "\t\tmode='lines')\n",
    "\treturn edge_trace\n",
    "\n",
    "def create_node_trace(G):\n",
    "\tnode_x = []\n",
    "\tnode_y = []\n",
    "\tfor node in G.nodes():\n",
    "\t\tx, y = G.nodes[node]['pos']\n",
    "\t\tnode_x.append(x)\n",
    "\t\tnode_y.append(y)\n",
    "\n",
    "\tnode_trace = go.Scatter(\n",
    "\t\tx=node_x, y=node_y,\n",
    "\t\tmode='markers',\n",
    "\t\thoverinfo='text',\n",
    "\t\tmarker=dict(\n",
    "\t\t\tshowscale=True,\n",
    "\t\t\t# colorscale options\n",
    "\t\t\t#'Greys' | 'YlGnBu' | 'Greens' | 'YlOrRd' | 'Bluered' | 'RdBu' |\n",
    "\t\t\t#'Reds' | 'Blues' | 'Picnic' | 'Rainbow' | 'Portland' | 'Jet' |\n",
    "\t\t\t#'Hot' | 'Blackbody' | 'Earth' | 'Electric' | 'Viridis' |\n",
    "\t\t\tcolorscale='YlGnBu',\n",
    "\t\t\treversescale=True,\n",
    "\t\t\tcolor=[],\n",
    "\t\t\tsize=10,\n",
    "\t\t\tcolorbar=dict(\n",
    "\t\t\t\tthickness=15,\n",
    "\t\t\t\ttitle='Node Connections',\n",
    "\t\t\t\txanchor='left',\n",
    "\t\t\t\ttitleside='right'\n",
    "\t\t\t),\n",
    "\t\t\tline_width=2))\n",
    "\tnode_types = []\n",
    "\tnode_text = []\n",
    "\t# Iterate through nodes\n",
    "\tfor node in G.nodes():\n",
    "\t\tnode_types.append(type_chart(G.nodes[node]['type']))\n",
    "\t\tsingle_node_text = 'Node: ' + str(node) + '<br>' + 'Type: ' + G.nodes[node]['type'] + '<br>' + 'Compute: ' + str(G.nodes[node]['compute'])\n",
    "\t\tnode_text.append(single_node_text)\n",
    "\t# for node, adjacencies in enumerate(G.adjacency()):\n",
    "\t# \tnode_adjacencies.append(len(adjacencies[1]))\n",
    "\t# \tnode_text.append('# of connections: '+str(len(adjacencies[1])))\n",
    "\tnode_trace.marker.color = node_types\n",
    "\tnode_trace.text = node_text\n",
    "\t\n",
    "\treturn node_trace\n",
    "\n",
    "def type_chart(type):\n",
    "\tif type == 'null':\n",
    "\t\treturn 0\n",
    "\telif type == 'scalar_mult':\n",
    "\t\treturn 1\n",
    "\telif type == 'ntt':\n",
    "\t\treturn 2\n",
    "\telif type == 'intt':\n",
    "\t\treturn 3\n",
    "\telif type == 'point_mult':\n",
    "\t\treturn 4\n",
    "\telse:\n",
    "\t\tprint('Error: unknown type: ', type)\n",
    "\t\traise Exception\n",
    "\n",
    "def plot_graph(G):\n",
    "\tpos = nx.spring_layout(G)\n",
    "\t# Assign positions to nodes\n",
    "\tfor node in G.nodes():\n",
    "\t\tG.nodes[node]['pos'] = list(pos[node])\n",
    "\tedge_trace, node_trace = create_traces(G)\n",
    "\tfig = go.Figure(data=[edge_trace, node_trace],\n",
    "\t\tlayout=go.Layout(\n",
    "\t\t\ttitle='<br>Compute Graph BlockSim',\n",
    "\t\t\ttitlefont_size=16,\n",
    "\t\t\tshowlegend=False,\n",
    "\t\t\thovermode='closest',\n",
    "\t\t\tmargin=dict(b=20,l=5,r=5,t=40),\n",
    "\t\t\tannotations=[ dict(\n",
    "\t\t\t\ttext=\"Author: <a href='https://wiki.kaustubh.us'>\\\n",
    "\t\t\t\t\tKaustubh</a>\",\n",
    "\t\t\t\tshowarrow=False,\n",
    "\t\t\t\txref=\"paper\", yref=\"paper\",\n",
    "\t\t\t\tx=0.005, y=-0.002 ) ],\n",
    "\t\t\txaxis=dict(showgrid=False, zeroline=False, showticklabels=False),\n",
    "\t\t\tyaxis=dict(showgrid=False, zeroline=False, showticklabels=False))\n",
    "\t\t)\n",
    "\tfig.show()"
   ]
  },
  {
   "cell_type": "code",
   "execution_count": 73,
   "metadata": {},
   "outputs": [],
   "source": [
    "# Read in the data\n",
    "block_data = pd.read_csv('../data/AMD NTT Profiling - Block Sim.csv')\n",
    "# Drop empty rows\n",
    "block_data = block_data.dropna()\n"
   ]
  },
  {
   "cell_type": "code",
   "execution_count": 74,
   "metadata": {},
   "outputs": [],
   "source": [
    "# Create metrics DF\n",
    "metrics = pd.DataFrame(columns=['CUs_busy', 'DRAM_BW', 'L1_BW', 'L2_BW', 'IPC', 'instx', 'DRAM_reads', 'DRAM_writes', 'dram_traffic'])\n",
    "# Create a list of the metrics\n",
    "CUs_busy = []\n",
    "DRAM_BW = []\n",
    "L1_BW = []\n",
    "L2_BW = []\n",
    "IPC = []\n",
    "instx = []\n",
    "DRAM_reads = []\n",
    "DRAM_writes = []\n",
    "dram_traffic = []\n"
   ]
  },
  {
   "cell_type": "code",
   "execution_count": null,
   "metadata": {},
   "outputs": [],
   "source": []
  },
  {
   "cell_type": "code",
   "execution_count": 75,
   "metadata": {},
   "outputs": [],
   "source": [
    "# Functions\n",
    "# def get_next_node_set()\n",
    "\n",
    "def create_poly_mult(uid, compute_graph):\n",
    "\tstart_node = uid\n",
    "\tcompute_graph.add_node(uid, type='null', compute=False)\n",
    "\tuid += 1\n",
    "\t# Add scalar_mult\n",
    "\tscalar_mult_0 = uid\n",
    "\tcompute_graph.add_node(uid, type='scalar_mult', compute=False)\n",
    "\tuid += 1\n",
    "\t# Edge\n",
    "\tcompute_graph.add_edge(start_node, scalar_mult_0)\n",
    "\t# Add scalar_mult\n",
    "\tscalar_mult_1 = uid\n",
    "\tcompute_graph.add_node(uid, type='scalar_mult', compute=False)\n",
    "\tuid += 1\n",
    "\t# Edge\n",
    "\tcompute_graph.add_edge(start_node, scalar_mult_1)\n",
    "\t# Add ntt\n",
    "\tntt_0 = uid\n",
    "\tcompute_graph.add_node(uid, type='ntt', compute=False)\n",
    "\tuid += 1\n",
    "\t# Edge\n",
    "\tcompute_graph.add_edge(scalar_mult_0, ntt_0)\n",
    "\t# Add ntt\n",
    "\tntt_1 = uid\n",
    "\tcompute_graph.add_node(uid, type='ntt', compute=False)\n",
    "\tuid += 1\n",
    "\t# Edge\n",
    "\tcompute_graph.add_edge(scalar_mult_1, ntt_1)\n",
    "\t# Add point_mult\n",
    "\tpoint_mult = uid\n",
    "\tcompute_graph.add_node(uid, type='point_mult', compute=False)\n",
    "\tuid += 1\n",
    "\t# Edge\n",
    "\tcompute_graph.add_edge(ntt_0, point_mult)\n",
    "\tcompute_graph.add_edge(ntt_1, point_mult)\n",
    "\t# Add intt\n",
    "\tintt = uid\n",
    "\tcompute_graph.add_node(uid, type='intt', compute=False)\n",
    "\tuid += 1\n",
    "\t# Edge\n",
    "\tcompute_graph.add_edge(point_mult, intt)\n",
    "\t# Add scalar_mult\n",
    "\tscalar_mult_2 = uid\n",
    "\tcompute_graph.add_node(uid, type='scalar_mult', compute=False)\n",
    "\tuid += 1\n",
    "\t# Edge\n",
    "\tcompute_graph.add_edge(intt, scalar_mult_2)\n",
    "\t# Add scalar_mult\n",
    "\tscalar_mult_3 = uid\n",
    "\tcompute_graph.add_node(uid, type='scalar_mult', compute=False)\n",
    "\tuid += 1\n",
    "\t# Edge\n",
    "\tcompute_graph.add_edge(scalar_mult_2, scalar_mult_3)\n",
    "\t# Add end node\n",
    "\tend_node = uid\n",
    "\tcompute_graph.add_node(uid, type='null', compute=False)\n",
    "\tuid += 1\n",
    "\t# Edge\n",
    "\tcompute_graph.add_edge(scalar_mult_3, end_node)\n",
    "\treturn uid, compute_graph, start_node, end_node\n",
    "\n",
    "\n"
   ]
  },
  {
   "cell_type": "code",
   "execution_count": 34,
   "metadata": {},
   "outputs": [],
   "source": [
    "# Create final graph\n",
    "def final_graph():\n",
    "\t# Create a directed graph\n",
    "\tcompute_graph = nx.DiGraph()\n",
    "\tuid = 0\n",
    "\t# Add nodes to the graph\n",
    "\tgraph_start_node = uid\n",
    "\tcompute_graph.add_node(uid, type='null', compute=False)\n",
    "\t# compute_graph.add_node(uid)\n",
    "\tuid += 1\n",
    "\tgraph_end_node = uid\n",
    "\t# compute_graph.add_node(uid)\n",
    "\tcompute_graph.add_node(uid, type='null', compute=False)\n",
    "\tuid += 1\n",
    "\tuid, compute_graph, start_node, end_node = create_poly_mult(uid, compute_graph)\n",
    "\t# Add edges to the graph\n",
    "\tcompute_graph.add_edge(graph_start_node, start_node)\n",
    "\tcompute_graph.add_edge(end_node, graph_end_node)\n",
    "\treturn compute_graph"
   ]
  },
  {
   "cell_type": "code",
   "execution_count": 35,
   "metadata": {},
   "outputs": [],
   "source": [
    "# block_data"
   ]
  },
  {
   "cell_type": "code",
   "execution_count": 38,
   "metadata": {},
   "outputs": [],
   "source": [
    "compute_graph = final_graph()"
   ]
  },
  {
   "cell_type": "code",
   "execution_count": 40,
   "metadata": {},
   "outputs": [
    {
     "data": {
      "application/vnd.plotly.v1+json": {
       "config": {
        "plotlyServerURL": "https://plot.ly"
       },
       "data": [
        {
         "hoverinfo": "none",
         "line": {
          "color": "#888",
          "width": 0.5
         },
         "mode": "lines",
         "type": "scatter",
         "x": [
          0.03972140721279417,
          0.38445488787621546,
          null,
          0.38445488787621546,
          0.6606474118069336,
          null,
          0.38445488787621546,
          0.1566991985982135,
          null,
          0.6606474118069336,
          0.4924388226729117,
          null,
          0.1566991985982135,
          0.3087413439876258,
          null,
          0.4924388226729117,
          0.15581081236668826,
          null,
          0.3087413439876258,
          0.15581081236668826,
          null,
          0.15581081236668826,
          -0.012452423885132019,
          null,
          -0.012452423885132019,
          -0.2859118844907006,
          null,
          -0.2859118844907006,
          -0.44734200776332733,
          null,
          -0.44734200776332733,
          -0.5910312167570347,
          null,
          -0.5910312167570347,
          -0.8617763516251883,
          null
         ],
         "y": [
          -0.5353668581423987,
          -0.4955071334606829,
          null,
          -0.4955071334606829,
          -0.23401970268070807,
          null,
          -0.4955071334606829,
          -0.38303791664985815,
          null,
          -0.23401970268070807,
          0.08994845234541729,
          null,
          -0.38303791664985815,
          -0.03858938823674239,
          null,
          0.08994845234541729,
          0.13717109999595298,
          null,
          -0.03858938823674239,
          0.13717109999595298,
          null,
          0.13717109999595298,
          -0.07719656761973288,
          null,
          -0.07719656761973288,
          -0.08269963261240637,
          null,
          -0.08269963261240637,
          0.10534546120957305,
          null,
          0.10534546120957305,
          0.5139521858515863,
          null,
          0.5139521858515863,
          1,
          null
         ]
        },
        {
         "hoverinfo": "text",
         "marker": {
          "color": [
           0,
           0,
           0,
           1,
           1,
           2,
           2,
           4,
           3,
           1,
           1,
           0
          ],
          "colorbar": {
           "thickness": 15,
           "title": {
            "side": "right",
            "text": "Node Connections"
           },
           "xanchor": "left"
          },
          "colorscale": [
           [
            0,
            "rgb(255,255,217)"
           ],
           [
            0.125,
            "rgb(237,248,177)"
           ],
           [
            0.25,
            "rgb(199,233,180)"
           ],
           [
            0.375,
            "rgb(127,205,187)"
           ],
           [
            0.5,
            "rgb(65,182,196)"
           ],
           [
            0.625,
            "rgb(29,145,192)"
           ],
           [
            0.75,
            "rgb(34,94,168)"
           ],
           [
            0.875,
            "rgb(37,52,148)"
           ],
           [
            1,
            "rgb(8,29,88)"
           ]
          ],
          "line": {
           "width": 2
          },
          "reversescale": true,
          "showscale": true,
          "size": 10
         },
         "mode": "markers",
         "text": [
          "Node: 0<br>Type: null<br>Compute: False",
          "Node: 1<br>Type: null<br>Compute: False",
          "Node: 2<br>Type: null<br>Compute: False",
          "Node: 3<br>Type: scalar_mult<br>Compute: False",
          "Node: 4<br>Type: scalar_mult<br>Compute: False",
          "Node: 5<br>Type: ntt<br>Compute: False",
          "Node: 6<br>Type: ntt<br>Compute: False",
          "Node: 7<br>Type: point_mult<br>Compute: False",
          "Node: 8<br>Type: intt<br>Compute: False",
          "Node: 9<br>Type: scalar_mult<br>Compute: False",
          "Node: 10<br>Type: scalar_mult<br>Compute: False",
          "Node: 11<br>Type: null<br>Compute: False"
         ],
         "type": "scatter",
         "x": [
          0.03972140721279417,
          -0.8617763516251883,
          0.38445488787621546,
          0.6606474118069336,
          0.1566991985982135,
          0.4924388226729117,
          0.3087413439876258,
          0.15581081236668826,
          -0.012452423885132019,
          -0.2859118844907006,
          -0.44734200776332733,
          -0.5910312167570347
         ],
         "y": [
          -0.5353668581423987,
          1,
          -0.4955071334606829,
          -0.23401970268070807,
          -0.38303791664985815,
          0.08994845234541729,
          -0.03858938823674239,
          0.13717109999595298,
          -0.07719656761973288,
          -0.08269963261240637,
          0.10534546120957305,
          0.5139521858515863
         ]
        }
       ],
       "layout": {
        "annotations": [
         {
          "showarrow": false,
          "text": "Author: <a href='https://wiki.kaustubh.us'>\t\t\t\t\tKaustubh</a>",
          "x": 0.005,
          "xref": "paper",
          "y": -0.002,
          "yref": "paper"
         }
        ],
        "hovermode": "closest",
        "margin": {
         "b": 20,
         "l": 5,
         "r": 5,
         "t": 40
        },
        "showlegend": false,
        "template": {
         "data": {
          "bar": [
           {
            "error_x": {
             "color": "#2a3f5f"
            },
            "error_y": {
             "color": "#2a3f5f"
            },
            "marker": {
             "line": {
              "color": "#E5ECF6",
              "width": 0.5
             },
             "pattern": {
              "fillmode": "overlay",
              "size": 10,
              "solidity": 0.2
             }
            },
            "type": "bar"
           }
          ],
          "barpolar": [
           {
            "marker": {
             "line": {
              "color": "#E5ECF6",
              "width": 0.5
             },
             "pattern": {
              "fillmode": "overlay",
              "size": 10,
              "solidity": 0.2
             }
            },
            "type": "barpolar"
           }
          ],
          "carpet": [
           {
            "aaxis": {
             "endlinecolor": "#2a3f5f",
             "gridcolor": "white",
             "linecolor": "white",
             "minorgridcolor": "white",
             "startlinecolor": "#2a3f5f"
            },
            "baxis": {
             "endlinecolor": "#2a3f5f",
             "gridcolor": "white",
             "linecolor": "white",
             "minorgridcolor": "white",
             "startlinecolor": "#2a3f5f"
            },
            "type": "carpet"
           }
          ],
          "choropleth": [
           {
            "colorbar": {
             "outlinewidth": 0,
             "ticks": ""
            },
            "type": "choropleth"
           }
          ],
          "contour": [
           {
            "colorbar": {
             "outlinewidth": 0,
             "ticks": ""
            },
            "colorscale": [
             [
              0,
              "#0d0887"
             ],
             [
              0.1111111111111111,
              "#46039f"
             ],
             [
              0.2222222222222222,
              "#7201a8"
             ],
             [
              0.3333333333333333,
              "#9c179e"
             ],
             [
              0.4444444444444444,
              "#bd3786"
             ],
             [
              0.5555555555555556,
              "#d8576b"
             ],
             [
              0.6666666666666666,
              "#ed7953"
             ],
             [
              0.7777777777777778,
              "#fb9f3a"
             ],
             [
              0.8888888888888888,
              "#fdca26"
             ],
             [
              1,
              "#f0f921"
             ]
            ],
            "type": "contour"
           }
          ],
          "contourcarpet": [
           {
            "colorbar": {
             "outlinewidth": 0,
             "ticks": ""
            },
            "type": "contourcarpet"
           }
          ],
          "heatmap": [
           {
            "colorbar": {
             "outlinewidth": 0,
             "ticks": ""
            },
            "colorscale": [
             [
              0,
              "#0d0887"
             ],
             [
              0.1111111111111111,
              "#46039f"
             ],
             [
              0.2222222222222222,
              "#7201a8"
             ],
             [
              0.3333333333333333,
              "#9c179e"
             ],
             [
              0.4444444444444444,
              "#bd3786"
             ],
             [
              0.5555555555555556,
              "#d8576b"
             ],
             [
              0.6666666666666666,
              "#ed7953"
             ],
             [
              0.7777777777777778,
              "#fb9f3a"
             ],
             [
              0.8888888888888888,
              "#fdca26"
             ],
             [
              1,
              "#f0f921"
             ]
            ],
            "type": "heatmap"
           }
          ],
          "heatmapgl": [
           {
            "colorbar": {
             "outlinewidth": 0,
             "ticks": ""
            },
            "colorscale": [
             [
              0,
              "#0d0887"
             ],
             [
              0.1111111111111111,
              "#46039f"
             ],
             [
              0.2222222222222222,
              "#7201a8"
             ],
             [
              0.3333333333333333,
              "#9c179e"
             ],
             [
              0.4444444444444444,
              "#bd3786"
             ],
             [
              0.5555555555555556,
              "#d8576b"
             ],
             [
              0.6666666666666666,
              "#ed7953"
             ],
             [
              0.7777777777777778,
              "#fb9f3a"
             ],
             [
              0.8888888888888888,
              "#fdca26"
             ],
             [
              1,
              "#f0f921"
             ]
            ],
            "type": "heatmapgl"
           }
          ],
          "histogram": [
           {
            "marker": {
             "pattern": {
              "fillmode": "overlay",
              "size": 10,
              "solidity": 0.2
             }
            },
            "type": "histogram"
           }
          ],
          "histogram2d": [
           {
            "colorbar": {
             "outlinewidth": 0,
             "ticks": ""
            },
            "colorscale": [
             [
              0,
              "#0d0887"
             ],
             [
              0.1111111111111111,
              "#46039f"
             ],
             [
              0.2222222222222222,
              "#7201a8"
             ],
             [
              0.3333333333333333,
              "#9c179e"
             ],
             [
              0.4444444444444444,
              "#bd3786"
             ],
             [
              0.5555555555555556,
              "#d8576b"
             ],
             [
              0.6666666666666666,
              "#ed7953"
             ],
             [
              0.7777777777777778,
              "#fb9f3a"
             ],
             [
              0.8888888888888888,
              "#fdca26"
             ],
             [
              1,
              "#f0f921"
             ]
            ],
            "type": "histogram2d"
           }
          ],
          "histogram2dcontour": [
           {
            "colorbar": {
             "outlinewidth": 0,
             "ticks": ""
            },
            "colorscale": [
             [
              0,
              "#0d0887"
             ],
             [
              0.1111111111111111,
              "#46039f"
             ],
             [
              0.2222222222222222,
              "#7201a8"
             ],
             [
              0.3333333333333333,
              "#9c179e"
             ],
             [
              0.4444444444444444,
              "#bd3786"
             ],
             [
              0.5555555555555556,
              "#d8576b"
             ],
             [
              0.6666666666666666,
              "#ed7953"
             ],
             [
              0.7777777777777778,
              "#fb9f3a"
             ],
             [
              0.8888888888888888,
              "#fdca26"
             ],
             [
              1,
              "#f0f921"
             ]
            ],
            "type": "histogram2dcontour"
           }
          ],
          "mesh3d": [
           {
            "colorbar": {
             "outlinewidth": 0,
             "ticks": ""
            },
            "type": "mesh3d"
           }
          ],
          "parcoords": [
           {
            "line": {
             "colorbar": {
              "outlinewidth": 0,
              "ticks": ""
             }
            },
            "type": "parcoords"
           }
          ],
          "pie": [
           {
            "automargin": true,
            "type": "pie"
           }
          ],
          "scatter": [
           {
            "fillpattern": {
             "fillmode": "overlay",
             "size": 10,
             "solidity": 0.2
            },
            "type": "scatter"
           }
          ],
          "scatter3d": [
           {
            "line": {
             "colorbar": {
              "outlinewidth": 0,
              "ticks": ""
             }
            },
            "marker": {
             "colorbar": {
              "outlinewidth": 0,
              "ticks": ""
             }
            },
            "type": "scatter3d"
           }
          ],
          "scattercarpet": [
           {
            "marker": {
             "colorbar": {
              "outlinewidth": 0,
              "ticks": ""
             }
            },
            "type": "scattercarpet"
           }
          ],
          "scattergeo": [
           {
            "marker": {
             "colorbar": {
              "outlinewidth": 0,
              "ticks": ""
             }
            },
            "type": "scattergeo"
           }
          ],
          "scattergl": [
           {
            "marker": {
             "colorbar": {
              "outlinewidth": 0,
              "ticks": ""
             }
            },
            "type": "scattergl"
           }
          ],
          "scattermapbox": [
           {
            "marker": {
             "colorbar": {
              "outlinewidth": 0,
              "ticks": ""
             }
            },
            "type": "scattermapbox"
           }
          ],
          "scatterpolar": [
           {
            "marker": {
             "colorbar": {
              "outlinewidth": 0,
              "ticks": ""
             }
            },
            "type": "scatterpolar"
           }
          ],
          "scatterpolargl": [
           {
            "marker": {
             "colorbar": {
              "outlinewidth": 0,
              "ticks": ""
             }
            },
            "type": "scatterpolargl"
           }
          ],
          "scatterternary": [
           {
            "marker": {
             "colorbar": {
              "outlinewidth": 0,
              "ticks": ""
             }
            },
            "type": "scatterternary"
           }
          ],
          "surface": [
           {
            "colorbar": {
             "outlinewidth": 0,
             "ticks": ""
            },
            "colorscale": [
             [
              0,
              "#0d0887"
             ],
             [
              0.1111111111111111,
              "#46039f"
             ],
             [
              0.2222222222222222,
              "#7201a8"
             ],
             [
              0.3333333333333333,
              "#9c179e"
             ],
             [
              0.4444444444444444,
              "#bd3786"
             ],
             [
              0.5555555555555556,
              "#d8576b"
             ],
             [
              0.6666666666666666,
              "#ed7953"
             ],
             [
              0.7777777777777778,
              "#fb9f3a"
             ],
             [
              0.8888888888888888,
              "#fdca26"
             ],
             [
              1,
              "#f0f921"
             ]
            ],
            "type": "surface"
           }
          ],
          "table": [
           {
            "cells": {
             "fill": {
              "color": "#EBF0F8"
             },
             "line": {
              "color": "white"
             }
            },
            "header": {
             "fill": {
              "color": "#C8D4E3"
             },
             "line": {
              "color": "white"
             }
            },
            "type": "table"
           }
          ]
         },
         "layout": {
          "annotationdefaults": {
           "arrowcolor": "#2a3f5f",
           "arrowhead": 0,
           "arrowwidth": 1
          },
          "autotypenumbers": "strict",
          "coloraxis": {
           "colorbar": {
            "outlinewidth": 0,
            "ticks": ""
           }
          },
          "colorscale": {
           "diverging": [
            [
             0,
             "#8e0152"
            ],
            [
             0.1,
             "#c51b7d"
            ],
            [
             0.2,
             "#de77ae"
            ],
            [
             0.3,
             "#f1b6da"
            ],
            [
             0.4,
             "#fde0ef"
            ],
            [
             0.5,
             "#f7f7f7"
            ],
            [
             0.6,
             "#e6f5d0"
            ],
            [
             0.7,
             "#b8e186"
            ],
            [
             0.8,
             "#7fbc41"
            ],
            [
             0.9,
             "#4d9221"
            ],
            [
             1,
             "#276419"
            ]
           ],
           "sequential": [
            [
             0,
             "#0d0887"
            ],
            [
             0.1111111111111111,
             "#46039f"
            ],
            [
             0.2222222222222222,
             "#7201a8"
            ],
            [
             0.3333333333333333,
             "#9c179e"
            ],
            [
             0.4444444444444444,
             "#bd3786"
            ],
            [
             0.5555555555555556,
             "#d8576b"
            ],
            [
             0.6666666666666666,
             "#ed7953"
            ],
            [
             0.7777777777777778,
             "#fb9f3a"
            ],
            [
             0.8888888888888888,
             "#fdca26"
            ],
            [
             1,
             "#f0f921"
            ]
           ],
           "sequentialminus": [
            [
             0,
             "#0d0887"
            ],
            [
             0.1111111111111111,
             "#46039f"
            ],
            [
             0.2222222222222222,
             "#7201a8"
            ],
            [
             0.3333333333333333,
             "#9c179e"
            ],
            [
             0.4444444444444444,
             "#bd3786"
            ],
            [
             0.5555555555555556,
             "#d8576b"
            ],
            [
             0.6666666666666666,
             "#ed7953"
            ],
            [
             0.7777777777777778,
             "#fb9f3a"
            ],
            [
             0.8888888888888888,
             "#fdca26"
            ],
            [
             1,
             "#f0f921"
            ]
           ]
          },
          "colorway": [
           "#636efa",
           "#EF553B",
           "#00cc96",
           "#ab63fa",
           "#FFA15A",
           "#19d3f3",
           "#FF6692",
           "#B6E880",
           "#FF97FF",
           "#FECB52"
          ],
          "font": {
           "color": "#2a3f5f"
          },
          "geo": {
           "bgcolor": "white",
           "lakecolor": "white",
           "landcolor": "#E5ECF6",
           "showlakes": true,
           "showland": true,
           "subunitcolor": "white"
          },
          "hoverlabel": {
           "align": "left"
          },
          "hovermode": "closest",
          "mapbox": {
           "style": "light"
          },
          "paper_bgcolor": "white",
          "plot_bgcolor": "#E5ECF6",
          "polar": {
           "angularaxis": {
            "gridcolor": "white",
            "linecolor": "white",
            "ticks": ""
           },
           "bgcolor": "#E5ECF6",
           "radialaxis": {
            "gridcolor": "white",
            "linecolor": "white",
            "ticks": ""
           }
          },
          "scene": {
           "xaxis": {
            "backgroundcolor": "#E5ECF6",
            "gridcolor": "white",
            "gridwidth": 2,
            "linecolor": "white",
            "showbackground": true,
            "ticks": "",
            "zerolinecolor": "white"
           },
           "yaxis": {
            "backgroundcolor": "#E5ECF6",
            "gridcolor": "white",
            "gridwidth": 2,
            "linecolor": "white",
            "showbackground": true,
            "ticks": "",
            "zerolinecolor": "white"
           },
           "zaxis": {
            "backgroundcolor": "#E5ECF6",
            "gridcolor": "white",
            "gridwidth": 2,
            "linecolor": "white",
            "showbackground": true,
            "ticks": "",
            "zerolinecolor": "white"
           }
          },
          "shapedefaults": {
           "line": {
            "color": "#2a3f5f"
           }
          },
          "ternary": {
           "aaxis": {
            "gridcolor": "white",
            "linecolor": "white",
            "ticks": ""
           },
           "baxis": {
            "gridcolor": "white",
            "linecolor": "white",
            "ticks": ""
           },
           "bgcolor": "#E5ECF6",
           "caxis": {
            "gridcolor": "white",
            "linecolor": "white",
            "ticks": ""
           }
          },
          "title": {
           "x": 0.05
          },
          "xaxis": {
           "automargin": true,
           "gridcolor": "white",
           "linecolor": "white",
           "ticks": "",
           "title": {
            "standoff": 15
           },
           "zerolinecolor": "white",
           "zerolinewidth": 2
          },
          "yaxis": {
           "automargin": true,
           "gridcolor": "white",
           "linecolor": "white",
           "ticks": "",
           "title": {
            "standoff": 15
           },
           "zerolinecolor": "white",
           "zerolinewidth": 2
          }
         }
        },
        "title": {
         "font": {
          "size": 16
         },
         "text": "<br>Compute Graph BlockSim"
        },
        "xaxis": {
         "showgrid": false,
         "showticklabels": false,
         "zeroline": false
        },
        "yaxis": {
         "showgrid": false,
         "showticklabels": false,
         "zeroline": false
        }
       }
      },
      "text/html": [
       "<div>                            <div id=\"98cd2138-ed3a-4495-84fc-616db8578866\" class=\"plotly-graph-div\" style=\"height:525px; width:100%;\"></div>            <script type=\"text/javascript\">                require([\"plotly\"], function(Plotly) {                    window.PLOTLYENV=window.PLOTLYENV || {};                                    if (document.getElementById(\"98cd2138-ed3a-4495-84fc-616db8578866\")) {                    Plotly.newPlot(                        \"98cd2138-ed3a-4495-84fc-616db8578866\",                        [{\"hoverinfo\":\"none\",\"line\":{\"color\":\"#888\",\"width\":0.5},\"mode\":\"lines\",\"x\":[0.03972140721279417,0.38445488787621546,null,0.38445488787621546,0.6606474118069336,null,0.38445488787621546,0.1566991985982135,null,0.6606474118069336,0.4924388226729117,null,0.1566991985982135,0.3087413439876258,null,0.4924388226729117,0.15581081236668826,null,0.3087413439876258,0.15581081236668826,null,0.15581081236668826,-0.012452423885132019,null,-0.012452423885132019,-0.2859118844907006,null,-0.2859118844907006,-0.44734200776332733,null,-0.44734200776332733,-0.5910312167570347,null,-0.5910312167570347,-0.8617763516251883,null],\"y\":[-0.5353668581423987,-0.4955071334606829,null,-0.4955071334606829,-0.23401970268070807,null,-0.4955071334606829,-0.38303791664985815,null,-0.23401970268070807,0.08994845234541729,null,-0.38303791664985815,-0.03858938823674239,null,0.08994845234541729,0.13717109999595298,null,-0.03858938823674239,0.13717109999595298,null,0.13717109999595298,-0.07719656761973288,null,-0.07719656761973288,-0.08269963261240637,null,-0.08269963261240637,0.10534546120957305,null,0.10534546120957305,0.5139521858515863,null,0.5139521858515863,1.0,null],\"type\":\"scatter\"},{\"hoverinfo\":\"text\",\"marker\":{\"color\":[0,0,0,1,1,2,2,4,3,1,1,0],\"colorbar\":{\"thickness\":15,\"title\":{\"side\":\"right\",\"text\":\"Node Connections\"},\"xanchor\":\"left\"},\"colorscale\":[[0.0,\"rgb(255,255,217)\"],[0.125,\"rgb(237,248,177)\"],[0.25,\"rgb(199,233,180)\"],[0.375,\"rgb(127,205,187)\"],[0.5,\"rgb(65,182,196)\"],[0.625,\"rgb(29,145,192)\"],[0.75,\"rgb(34,94,168)\"],[0.875,\"rgb(37,52,148)\"],[1.0,\"rgb(8,29,88)\"]],\"line\":{\"width\":2},\"reversescale\":true,\"showscale\":true,\"size\":10},\"mode\":\"markers\",\"text\":[\"Node: 0<br>Type: null<br>Compute: False\",\"Node: 1<br>Type: null<br>Compute: False\",\"Node: 2<br>Type: null<br>Compute: False\",\"Node: 3<br>Type: scalar_mult<br>Compute: False\",\"Node: 4<br>Type: scalar_mult<br>Compute: False\",\"Node: 5<br>Type: ntt<br>Compute: False\",\"Node: 6<br>Type: ntt<br>Compute: False\",\"Node: 7<br>Type: point_mult<br>Compute: False\",\"Node: 8<br>Type: intt<br>Compute: False\",\"Node: 9<br>Type: scalar_mult<br>Compute: False\",\"Node: 10<br>Type: scalar_mult<br>Compute: False\",\"Node: 11<br>Type: null<br>Compute: False\"],\"x\":[0.03972140721279417,-0.8617763516251883,0.38445488787621546,0.6606474118069336,0.1566991985982135,0.4924388226729117,0.3087413439876258,0.15581081236668826,-0.012452423885132019,-0.2859118844907006,-0.44734200776332733,-0.5910312167570347],\"y\":[-0.5353668581423987,1.0,-0.4955071334606829,-0.23401970268070807,-0.38303791664985815,0.08994845234541729,-0.03858938823674239,0.13717109999595298,-0.07719656761973288,-0.08269963261240637,0.10534546120957305,0.5139521858515863],\"type\":\"scatter\"}],                        {\"annotations\":[{\"showarrow\":false,\"text\":\"Author: <a href='https://wiki.kaustubh.us'>\\t\\t\\t\\t\\tKaustubh</a>\",\"x\":0.005,\"xref\":\"paper\",\"y\":-0.002,\"yref\":\"paper\"}],\"hovermode\":\"closest\",\"margin\":{\"b\":20,\"l\":5,\"r\":5,\"t\":40},\"showlegend\":false,\"title\":{\"font\":{\"size\":16},\"text\":\"<br>Compute Graph BlockSim\"},\"xaxis\":{\"showgrid\":false,\"showticklabels\":false,\"zeroline\":false},\"yaxis\":{\"showgrid\":false,\"showticklabels\":false,\"zeroline\":false},\"template\":{\"data\":{\"histogram2dcontour\":[{\"type\":\"histogram2dcontour\",\"colorbar\":{\"outlinewidth\":0,\"ticks\":\"\"},\"colorscale\":[[0.0,\"#0d0887\"],[0.1111111111111111,\"#46039f\"],[0.2222222222222222,\"#7201a8\"],[0.3333333333333333,\"#9c179e\"],[0.4444444444444444,\"#bd3786\"],[0.5555555555555556,\"#d8576b\"],[0.6666666666666666,\"#ed7953\"],[0.7777777777777778,\"#fb9f3a\"],[0.8888888888888888,\"#fdca26\"],[1.0,\"#f0f921\"]]}],\"choropleth\":[{\"type\":\"choropleth\",\"colorbar\":{\"outlinewidth\":0,\"ticks\":\"\"}}],\"histogram2d\":[{\"type\":\"histogram2d\",\"colorbar\":{\"outlinewidth\":0,\"ticks\":\"\"},\"colorscale\":[[0.0,\"#0d0887\"],[0.1111111111111111,\"#46039f\"],[0.2222222222222222,\"#7201a8\"],[0.3333333333333333,\"#9c179e\"],[0.4444444444444444,\"#bd3786\"],[0.5555555555555556,\"#d8576b\"],[0.6666666666666666,\"#ed7953\"],[0.7777777777777778,\"#fb9f3a\"],[0.8888888888888888,\"#fdca26\"],[1.0,\"#f0f921\"]]}],\"heatmap\":[{\"type\":\"heatmap\",\"colorbar\":{\"outlinewidth\":0,\"ticks\":\"\"},\"colorscale\":[[0.0,\"#0d0887\"],[0.1111111111111111,\"#46039f\"],[0.2222222222222222,\"#7201a8\"],[0.3333333333333333,\"#9c179e\"],[0.4444444444444444,\"#bd3786\"],[0.5555555555555556,\"#d8576b\"],[0.6666666666666666,\"#ed7953\"],[0.7777777777777778,\"#fb9f3a\"],[0.8888888888888888,\"#fdca26\"],[1.0,\"#f0f921\"]]}],\"heatmapgl\":[{\"type\":\"heatmapgl\",\"colorbar\":{\"outlinewidth\":0,\"ticks\":\"\"},\"colorscale\":[[0.0,\"#0d0887\"],[0.1111111111111111,\"#46039f\"],[0.2222222222222222,\"#7201a8\"],[0.3333333333333333,\"#9c179e\"],[0.4444444444444444,\"#bd3786\"],[0.5555555555555556,\"#d8576b\"],[0.6666666666666666,\"#ed7953\"],[0.7777777777777778,\"#fb9f3a\"],[0.8888888888888888,\"#fdca26\"],[1.0,\"#f0f921\"]]}],\"contourcarpet\":[{\"type\":\"contourcarpet\",\"colorbar\":{\"outlinewidth\":0,\"ticks\":\"\"}}],\"contour\":[{\"type\":\"contour\",\"colorbar\":{\"outlinewidth\":0,\"ticks\":\"\"},\"colorscale\":[[0.0,\"#0d0887\"],[0.1111111111111111,\"#46039f\"],[0.2222222222222222,\"#7201a8\"],[0.3333333333333333,\"#9c179e\"],[0.4444444444444444,\"#bd3786\"],[0.5555555555555556,\"#d8576b\"],[0.6666666666666666,\"#ed7953\"],[0.7777777777777778,\"#fb9f3a\"],[0.8888888888888888,\"#fdca26\"],[1.0,\"#f0f921\"]]}],\"surface\":[{\"type\":\"surface\",\"colorbar\":{\"outlinewidth\":0,\"ticks\":\"\"},\"colorscale\":[[0.0,\"#0d0887\"],[0.1111111111111111,\"#46039f\"],[0.2222222222222222,\"#7201a8\"],[0.3333333333333333,\"#9c179e\"],[0.4444444444444444,\"#bd3786\"],[0.5555555555555556,\"#d8576b\"],[0.6666666666666666,\"#ed7953\"],[0.7777777777777778,\"#fb9f3a\"],[0.8888888888888888,\"#fdca26\"],[1.0,\"#f0f921\"]]}],\"mesh3d\":[{\"type\":\"mesh3d\",\"colorbar\":{\"outlinewidth\":0,\"ticks\":\"\"}}],\"scatter\":[{\"fillpattern\":{\"fillmode\":\"overlay\",\"size\":10,\"solidity\":0.2},\"type\":\"scatter\"}],\"parcoords\":[{\"type\":\"parcoords\",\"line\":{\"colorbar\":{\"outlinewidth\":0,\"ticks\":\"\"}}}],\"scatterpolargl\":[{\"type\":\"scatterpolargl\",\"marker\":{\"colorbar\":{\"outlinewidth\":0,\"ticks\":\"\"}}}],\"bar\":[{\"error_x\":{\"color\":\"#2a3f5f\"},\"error_y\":{\"color\":\"#2a3f5f\"},\"marker\":{\"line\":{\"color\":\"#E5ECF6\",\"width\":0.5},\"pattern\":{\"fillmode\":\"overlay\",\"size\":10,\"solidity\":0.2}},\"type\":\"bar\"}],\"scattergeo\":[{\"type\":\"scattergeo\",\"marker\":{\"colorbar\":{\"outlinewidth\":0,\"ticks\":\"\"}}}],\"scatterpolar\":[{\"type\":\"scatterpolar\",\"marker\":{\"colorbar\":{\"outlinewidth\":0,\"ticks\":\"\"}}}],\"histogram\":[{\"marker\":{\"pattern\":{\"fillmode\":\"overlay\",\"size\":10,\"solidity\":0.2}},\"type\":\"histogram\"}],\"scattergl\":[{\"type\":\"scattergl\",\"marker\":{\"colorbar\":{\"outlinewidth\":0,\"ticks\":\"\"}}}],\"scatter3d\":[{\"type\":\"scatter3d\",\"line\":{\"colorbar\":{\"outlinewidth\":0,\"ticks\":\"\"}},\"marker\":{\"colorbar\":{\"outlinewidth\":0,\"ticks\":\"\"}}}],\"scattermapbox\":[{\"type\":\"scattermapbox\",\"marker\":{\"colorbar\":{\"outlinewidth\":0,\"ticks\":\"\"}}}],\"scatterternary\":[{\"type\":\"scatterternary\",\"marker\":{\"colorbar\":{\"outlinewidth\":0,\"ticks\":\"\"}}}],\"scattercarpet\":[{\"type\":\"scattercarpet\",\"marker\":{\"colorbar\":{\"outlinewidth\":0,\"ticks\":\"\"}}}],\"carpet\":[{\"aaxis\":{\"endlinecolor\":\"#2a3f5f\",\"gridcolor\":\"white\",\"linecolor\":\"white\",\"minorgridcolor\":\"white\",\"startlinecolor\":\"#2a3f5f\"},\"baxis\":{\"endlinecolor\":\"#2a3f5f\",\"gridcolor\":\"white\",\"linecolor\":\"white\",\"minorgridcolor\":\"white\",\"startlinecolor\":\"#2a3f5f\"},\"type\":\"carpet\"}],\"table\":[{\"cells\":{\"fill\":{\"color\":\"#EBF0F8\"},\"line\":{\"color\":\"white\"}},\"header\":{\"fill\":{\"color\":\"#C8D4E3\"},\"line\":{\"color\":\"white\"}},\"type\":\"table\"}],\"barpolar\":[{\"marker\":{\"line\":{\"color\":\"#E5ECF6\",\"width\":0.5},\"pattern\":{\"fillmode\":\"overlay\",\"size\":10,\"solidity\":0.2}},\"type\":\"barpolar\"}],\"pie\":[{\"automargin\":true,\"type\":\"pie\"}]},\"layout\":{\"autotypenumbers\":\"strict\",\"colorway\":[\"#636efa\",\"#EF553B\",\"#00cc96\",\"#ab63fa\",\"#FFA15A\",\"#19d3f3\",\"#FF6692\",\"#B6E880\",\"#FF97FF\",\"#FECB52\"],\"font\":{\"color\":\"#2a3f5f\"},\"hovermode\":\"closest\",\"hoverlabel\":{\"align\":\"left\"},\"paper_bgcolor\":\"white\",\"plot_bgcolor\":\"#E5ECF6\",\"polar\":{\"bgcolor\":\"#E5ECF6\",\"angularaxis\":{\"gridcolor\":\"white\",\"linecolor\":\"white\",\"ticks\":\"\"},\"radialaxis\":{\"gridcolor\":\"white\",\"linecolor\":\"white\",\"ticks\":\"\"}},\"ternary\":{\"bgcolor\":\"#E5ECF6\",\"aaxis\":{\"gridcolor\":\"white\",\"linecolor\":\"white\",\"ticks\":\"\"},\"baxis\":{\"gridcolor\":\"white\",\"linecolor\":\"white\",\"ticks\":\"\"},\"caxis\":{\"gridcolor\":\"white\",\"linecolor\":\"white\",\"ticks\":\"\"}},\"coloraxis\":{\"colorbar\":{\"outlinewidth\":0,\"ticks\":\"\"}},\"colorscale\":{\"sequential\":[[0.0,\"#0d0887\"],[0.1111111111111111,\"#46039f\"],[0.2222222222222222,\"#7201a8\"],[0.3333333333333333,\"#9c179e\"],[0.4444444444444444,\"#bd3786\"],[0.5555555555555556,\"#d8576b\"],[0.6666666666666666,\"#ed7953\"],[0.7777777777777778,\"#fb9f3a\"],[0.8888888888888888,\"#fdca26\"],[1.0,\"#f0f921\"]],\"sequentialminus\":[[0.0,\"#0d0887\"],[0.1111111111111111,\"#46039f\"],[0.2222222222222222,\"#7201a8\"],[0.3333333333333333,\"#9c179e\"],[0.4444444444444444,\"#bd3786\"],[0.5555555555555556,\"#d8576b\"],[0.6666666666666666,\"#ed7953\"],[0.7777777777777778,\"#fb9f3a\"],[0.8888888888888888,\"#fdca26\"],[1.0,\"#f0f921\"]],\"diverging\":[[0,\"#8e0152\"],[0.1,\"#c51b7d\"],[0.2,\"#de77ae\"],[0.3,\"#f1b6da\"],[0.4,\"#fde0ef\"],[0.5,\"#f7f7f7\"],[0.6,\"#e6f5d0\"],[0.7,\"#b8e186\"],[0.8,\"#7fbc41\"],[0.9,\"#4d9221\"],[1,\"#276419\"]]},\"xaxis\":{\"gridcolor\":\"white\",\"linecolor\":\"white\",\"ticks\":\"\",\"title\":{\"standoff\":15},\"zerolinecolor\":\"white\",\"automargin\":true,\"zerolinewidth\":2},\"yaxis\":{\"gridcolor\":\"white\",\"linecolor\":\"white\",\"ticks\":\"\",\"title\":{\"standoff\":15},\"zerolinecolor\":\"white\",\"automargin\":true,\"zerolinewidth\":2},\"scene\":{\"xaxis\":{\"backgroundcolor\":\"#E5ECF6\",\"gridcolor\":\"white\",\"linecolor\":\"white\",\"showbackground\":true,\"ticks\":\"\",\"zerolinecolor\":\"white\",\"gridwidth\":2},\"yaxis\":{\"backgroundcolor\":\"#E5ECF6\",\"gridcolor\":\"white\",\"linecolor\":\"white\",\"showbackground\":true,\"ticks\":\"\",\"zerolinecolor\":\"white\",\"gridwidth\":2},\"zaxis\":{\"backgroundcolor\":\"#E5ECF6\",\"gridcolor\":\"white\",\"linecolor\":\"white\",\"showbackground\":true,\"ticks\":\"\",\"zerolinecolor\":\"white\",\"gridwidth\":2}},\"shapedefaults\":{\"line\":{\"color\":\"#2a3f5f\"}},\"annotationdefaults\":{\"arrowcolor\":\"#2a3f5f\",\"arrowhead\":0,\"arrowwidth\":1},\"geo\":{\"bgcolor\":\"white\",\"landcolor\":\"#E5ECF6\",\"subunitcolor\":\"white\",\"showland\":true,\"showlakes\":true,\"lakecolor\":\"white\"},\"title\":{\"x\":0.05},\"mapbox\":{\"style\":\"light\"}}}},                        {\"responsive\": true}                    ).then(function(){\n",
       "                            \n",
       "var gd = document.getElementById('98cd2138-ed3a-4495-84fc-616db8578866');\n",
       "var x = new MutationObserver(function (mutations, observer) {{\n",
       "        var display = window.getComputedStyle(gd).display;\n",
       "        if (!display || display === 'none') {{\n",
       "            console.log([gd, 'removed!']);\n",
       "            Plotly.purge(gd);\n",
       "            observer.disconnect();\n",
       "        }}\n",
       "}});\n",
       "\n",
       "// Listen for the removal of the full notebook cells\n",
       "var notebookContainer = gd.closest('#notebook-container');\n",
       "if (notebookContainer) {{\n",
       "    x.observe(notebookContainer, {childList: true});\n",
       "}}\n",
       "\n",
       "// Listen for the clearing of the current output cell\n",
       "var outputEl = gd.closest('.output');\n",
       "if (outputEl) {{\n",
       "    x.observe(outputEl, {childList: true});\n",
       "}}\n",
       "\n",
       "                        })                };                });            </script>        </div>"
      ]
     },
     "metadata": {},
     "output_type": "display_data"
    }
   ],
   "source": [
    "plot_graph(compute_graph)"
   ]
  },
  {
   "cell_type": "code",
   "execution_count": 69,
   "metadata": {},
   "outputs": [],
   "source": [
    "def schedule_compute(compute_graph, ready_list, computing_list, find_next_list, block_data):\n",
    "\t# Schedule the compute\n",
    "\titerating_ready_list = ready_list.copy()\n",
    "\tfor node in iterating_ready_list:\n",
    "\t\t# Check if the node is in the computing list\n",
    "\t\tif node in computing_list:\n",
    "\t\t\tprint('Error: Node already in computing list')\n",
    "\t\tif gpu_ready_for(node, computing_list):\n",
    "\t\t\tprint('Pushing node ' + str(node) + ' to computing list')\n",
    "\t\t\tcomputing_list.append(node)\n",
    "\t\t\tready_list.remove(node)\n",
    "\t\telse:\n",
    "\t\t\tprint('Stalling, GPU not ready for node' + str(node))\n",
    "\treturn compute_graph, ready_list, computing_list, find_next_list\n",
    "\n",
    "def gpu_ready_for(node, computing_list):\n",
    "\tif len(computing_list) < 2:\n",
    "\t\treturn True\n",
    "\telse:\n",
    "\t\treturn False\n",
    "\n",
    "def gpu_compute(compute_graph, ready_list, computing_list, find_next_list, block_data, tick):\n",
    "\t# Compute the nodes\n",
    "\titerating_computing_list = computing_list.copy()\n",
    "\tfor node in iterating_computing_list:\n",
    "\t\tprint('Computing node ' + str(node))\n",
    "\t\t# Set compute to true\n",
    "\t\tcompute_graph.nodes[node]['compute'] = True\n",
    "\t\t# Move node to find next list\n",
    "\t\t# print('Moving node ' + str(node) + ' to find next list')\n",
    "\t\tfind_next_list.append(node)\n",
    "\t\t# Remove node from computing list\n",
    "\t\tcomputing_list.remove(node)\n",
    "\treturn compute_graph, ready_list, computing_list, find_next_list\n",
    "\n",
    "def find_next(compute_graph, ready_list, computing_list, find_next_list, block_data):\n",
    "\t# Iterate through the find next list\n",
    "\titerating_find_next_list = find_next_list.copy()\n",
    "\tfor node in iterating_find_next_list:\n",
    "\t\t# Check if node is computed\n",
    "\t\tif compute_graph.nodes[node]['compute'] == True:\n",
    "\t\t\t# Iterate over children\n",
    "\t\t\tchildren = list(compute_graph.successors(node))\n",
    "\t\t\tfor child in children:\n",
    "\t\t\t\tif child not in ready_list and child not in computing_list:\n",
    "\t\t\t\t\t# Make sure child's parents are computed\n",
    "\t\t\t\t\tparents = list(compute_graph.predecessors(child))\n",
    "\t\t\t\t\tparents_computed = True\n",
    "\t\t\t\t\tfor parent in parents:\n",
    "\t\t\t\t\t\tif compute_graph.nodes[parent]['compute'] == False:\n",
    "\t\t\t\t\t\t\tparents_computed = False\n",
    "\t\t\t\t\tif parents_computed:\n",
    "\t\t\t\t\t\tprint('Pushing node ' + str(child) + ' to ready list')\n",
    "\t\t\t\t\t\tready_list.append(child)\n",
    "\t\t\t# Remove node from find next list\n",
    "\t\t\t# If child's parents are not computed, then the parent who is not computed will add the child to the ready list\n",
    "\t\t\tfind_next_list.remove(node)\n",
    "\treturn compute_graph, ready_list, computing_list, find_next_list\n",
    "\n",
    "def print_uncomputed_nodes(compute_graph):\n",
    "\tuncomputed_nodes = []\n",
    "\tfor node in compute_graph.nodes:\n",
    "\t\tif compute_graph.nodes[node]['compute'] == False:\n",
    "\t\t\tuncomputed_nodes.append(node)\n",
    "\tprint('Uncomputed nodes: ' + str(uncomputed_nodes))\n",
    "\n",
    "def sim_run(compute_graph, block_data):\n",
    "\t# Run till end\n",
    "\tstart_node = 0\n",
    "\t# Get the end node\n",
    "\tend_node = 1\n",
    "\tready_list = []\n",
    "\tcomputing_list = []\n",
    "\tfind_next_list = []\n",
    "\ttick = 0\n",
    "\tbreak_counter = 100\n",
    "\tready_list.append(start_node)\n",
    "\twhile True:\n",
    "\t\tprint('Tick: ' + str(tick))\n",
    "\t\tprint('Ready list: ' + str(ready_list))\n",
    "\t\t# print('Computing list: ' + str(computing_list))\n",
    "\t\t# print('Find next list: ' + str(find_next_list))\n",
    "\t\tcompute_graph, ready_list, computing_list, find_next_list = schedule_compute(compute_graph, ready_list, computing_list, find_next_list, block_data)\n",
    "\t\tcompute_graph, ready_list, computing_list, find_next_list = gpu_compute(compute_graph, ready_list, computing_list, find_next_list, block_data, tick)\n",
    "\t\tcompute_graph, ready_list, computing_list, find_next_list = find_next(compute_graph, ready_list, computing_list, find_next_list, block_data)\n",
    "\t\ttick += 1\n",
    "\t\tbreak_counter -= 1\n",
    "\t\tif break_counter <= 0:\n",
    "\t\t\tbreak\n",
    "\t\t# If all 3 lists are empty, then break\n",
    "\t\tif len(ready_list) == 0 and len(computing_list) == 0 and len(find_next_list) == 0:\n",
    "\t\t\tbreak\n",
    "\tprint('Final Tick: ' + str(tick))\n"
   ]
  },
  {
   "cell_type": "code",
   "execution_count": 70,
   "metadata": {},
   "outputs": [
    {
     "name": "stdout",
     "output_type": "stream",
     "text": [
      "Tick: 0\n",
      "Ready list: [0]\n",
      "Pushing node 0 to computing list\n",
      "Computing node 0\n",
      "Pushing node 2 to ready list\n",
      "Tick: 1\n",
      "Ready list: [2]\n",
      "Pushing node 2 to computing list\n",
      "Computing node 2\n",
      "Pushing node 3 to ready list\n",
      "Pushing node 4 to ready list\n",
      "Tick: 2\n",
      "Ready list: [3, 4]\n",
      "Pushing node 3 to computing list\n",
      "Pushing node 4 to computing list\n",
      "Computing node 3\n",
      "Computing node 4\n",
      "Pushing node 5 to ready list\n",
      "Pushing node 6 to ready list\n",
      "Tick: 3\n",
      "Ready list: [5, 6]\n",
      "Pushing node 5 to computing list\n",
      "Pushing node 6 to computing list\n",
      "Computing node 5\n",
      "Computing node 6\n",
      "Pushing node 7 to ready list\n",
      "Tick: 4\n",
      "Ready list: [7]\n",
      "Pushing node 7 to computing list\n",
      "Computing node 7\n",
      "Pushing node 8 to ready list\n",
      "Tick: 5\n",
      "Ready list: [8]\n",
      "Pushing node 8 to computing list\n",
      "Computing node 8\n",
      "Pushing node 9 to ready list\n",
      "Tick: 6\n",
      "Ready list: [9]\n",
      "Pushing node 9 to computing list\n",
      "Computing node 9\n",
      "Pushing node 10 to ready list\n",
      "Tick: 7\n",
      "Ready list: [10]\n",
      "Pushing node 10 to computing list\n",
      "Computing node 10\n",
      "Pushing node 11 to ready list\n",
      "Tick: 8\n",
      "Ready list: [11]\n",
      "Pushing node 11 to computing list\n",
      "Computing node 11\n",
      "Pushing node 1 to ready list\n",
      "Tick: 9\n",
      "Ready list: [1]\n",
      "Pushing node 1 to computing list\n",
      "Computing node 1\n",
      "Final Tick: 10\n",
      "Uncomputed nodes: []\n"
     ]
    }
   ],
   "source": [
    "sim_run(compute_graph, block_data)\n",
    "print_uncomputed_nodes(compute_graph)"
   ]
  },
  {
   "cell_type": "code",
   "execution_count": null,
   "metadata": {},
   "outputs": [],
   "source": []
  }
 ],
 "metadata": {
  "kernelspec": {
   "display_name": "ktb_env",
   "language": "python",
   "name": "python3"
  },
  "language_info": {
   "codemirror_mode": {
    "name": "ipython",
    "version": 3
   },
   "file_extension": ".py",
   "mimetype": "text/x-python",
   "name": "python",
   "nbconvert_exporter": "python",
   "pygments_lexer": "ipython3",
   "version": "3.8.13"
  },
  "orig_nbformat": 4,
  "vscode": {
   "interpreter": {
    "hash": "b7c9ab16096d894efa185c1f6f9489ea53c74ba58a4f16540fe19726bcdd67d6"
   }
  }
 },
 "nbformat": 4,
 "nbformat_minor": 2
}
